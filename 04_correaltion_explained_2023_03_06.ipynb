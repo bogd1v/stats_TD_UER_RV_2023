{
  "nbformat": 4,
  "nbformat_minor": 0,
  "metadata": {
    "colab": {
      "private_outputs": true,
      "provenance": []
    },
    "kernelspec": {
      "name": "python3",
      "display_name": "Python 3"
    },
    "language_info": {
      "name": "python"
    }
  },
  "cells": [
    {
      "cell_type": "code",
      "execution_count": null,
      "metadata": {
        "id": "1yIbhFSlFBb9"
      },
      "outputs": [],
      "source": [
        "import numpy as np\n",
        "import matplotlib.pyplot as plt\n",
        "\n",
        "# prepare donees aleatoires\n",
        "\n",
        "n=100\n",
        "\n",
        "# variable des données généré aléatoirement (pour simuler la variation entre les personnes)\n",
        "x = np.random.randn(n)*5+170 \n",
        "\n",
        "# deuxième variable de données, RELATED to x est composé de x avec une variation aléatoire ajoutée (pour simuler les variations de poids corporel)\n",
        "y = (x-100)+np.random.randn(n)*7 \n",
        "\n",
        "fig, axs = plt.subplots(nrows=2, figsize=(12, 6))\n",
        "axs[0].plot(x);\n",
        "axs[0].set_ylabel(\"height, cm\", fontsize=14);\n",
        "axs[1].plot(y);\n",
        "axs[1].set_ylabel(\"weight, kg\", fontsize=14);"
      ]
    },
    {
      "cell_type": "code",
      "source": [
        "import numpy as np\n",
        "import matplotlib.pyplot as plt\n",
        "from scipy.stats import t\n",
        "from scipy.stats import pearsonr\n",
        "import scipy.stats as stats\n",
        "\n",
        "# Générer des données aléatoires\n",
        "n = 10\n",
        "\n",
        "# variable des données généré aléatoirement (pour simuler la variation entre les personnes)\n",
        "x = np.random.randn(n)*5 + 170 \n",
        "\n",
        "# deuxième variable de données, RELATED to x est composé de x avec une variation aléatoire ajoutée (pour simuler les variations de poids corporel)\n",
        "y = (x - 100) + np.random.randn(n)*7 \n",
        "\n",
        "# Calculer le coefficient de corrélation\n",
        "corr, pval = pearsonr(x, y)\n",
        "\n",
        "# Calculer l'intervalle de confiance à 95% pour le coefficient de corrélation\n",
        "n = len(x)\n",
        "df = n - 2\n",
        "t_critical = t.ppf(0.975, df)\n",
        "se = np.sqrt((1 - corr**2) / df)\n",
        "ci_low = np.tanh(np.arctanh(corr) - t_critical * se)\n",
        "ci_high = np.tanh(np.arctanh(corr) + t_critical * se)\n",
        "\n",
        "# Tracer la régression linéaire et l'intervalle de confiance\n",
        "p, cov = np.polyfit(x, y, 1, cov=True)\n",
        "y_pred = np.polyval(p, x)\n",
        "\n",
        "# Statistiques\n",
        "n = x.size                                           # nombre d'observations\n",
        "m = p.size                                           # nombre de paramètres\n",
        "dof = n - m                                          # degrés de liberté\n",
        "t = stats.t.ppf(0.975, n - m)                        # t-statistique; utilisé pour les bandes CI et PI\n",
        "\n",
        "# Estimations des erreurs dans les données/le modèle\n",
        "resid = y - y_pred                                   # résidus; différence entre les données réelles et les valeurs prédites\n",
        "s_err = np.sqrt(np.sum(resid**2) / dof)               # écart-type de l'erreur\n",
        "\n",
        "x2 = np.linspace(np.min(x), np.max(x), 100)\n",
        "y2 = np.polyval(p, x2)\n",
        "\n",
        "ci = t * s_err * np.sqrt(1/n + (x2 - np.mean(x))**2 / np.sum((x - np.mean(x))**2))\n",
        "# [1] M. Duarte.  \"Curve fitting,\" Jupyter Notebook.\n",
        "#  http://nbviewer.ipython.org/github/demotu/BMC/blob/master/notebooks/CurveFitting.ipynb\n",
        "\n",
        "# Tracer le graphique avec la régression linéaire et l'intervalle de confiance\n",
        "fig, ax = plt.subplots()\n",
        "ax.plot(x2, y2, 'r')                                       # tracer la ligne de régression linéaire en rouge\n",
        "ax.scatter(x, y)                                           # tracer les points de données\n",
        "ax.fill_between(x2, y2 + ci, y2 - ci, alpha=0.4)            # tracer l'intervalle de confiance\n",
        "\n",
        "# Ajouter un titre et des étiquettes d'axe\n",
        "ax.set_title(f'Corrélation r = {corr:.2f}, CI 95% [{ci_low:.2f}, {ci_high:.2f}], p = {pval:.3f} ', fontsize=14)  # ajouter un titre avec les informations de corrélation, CI et p-value\n",
        "ax.set_xlabel(\"height, cm\", fontsize=14) # ajouter une étiquette pour l'axe\n",
        "ax.set_ylabel(\"argent, Euro\", fontsize=14) # l'étiquette de l'axe y\n",
        "\n",
        "#afficher le graphique\n",
        "plt.show()"
      ],
      "metadata": {
        "id": "FsVPm43jSJjx"
      },
      "execution_count": null,
      "outputs": []
    },
    {
      "cell_type": "code",
      "source": [
        "#L'illustration des faux positifs\n",
        "\n",
        "n = 100\n",
        "\n",
        "# Effectuer plusieurs essais\n",
        "n_trials = 1000\n",
        "n_significant = 0\n",
        "\n",
        "for i in range(n_trials):\n",
        "    # Préparer des données aléatoires, non correlees\n",
        "    x = np.random.randn(n)\n",
        "    y = np.random.randn(n) \n",
        "    \n",
        "    # Calculer le coefficient de corrélation et la p-value\n",
        "    corr, pval = pearsonr(x, y)\n",
        "    \n",
        "    # Vérifier si la p-value est inférieure à 0,05 et incrémenter le compteur\n",
        "    if pval < 0.05:\n",
        "        n_significant += 1\n",
        "\n",
        "# Afficher le nombre de fois où la corrélation était significative\n",
        "print(f\"Sur {n_trials} essais, la corrélation était significative {n_significant} fois. Les faux positives (significativite).\")\n",
        "\n",
        "fig, ax = plt.subplots( figsize=(5, 5));\n",
        "ax.scatter(x, y);           \n",
        "ax.set_title(f'Corrélation r = {corr:.2f}, p = {pval:.3f} ', fontsize=14);  # ajouter un titre avec les informations de corrélation, CI et p-value\n"
      ],
      "metadata": {
        "id": "qzrOJ7-3QWjr"
      },
      "execution_count": null,
      "outputs": []
    },
    {
      "cell_type": "code",
      "source": [
        "#L'illustration des faux negatives\n",
        "\n",
        "n = 100\n",
        "\n",
        "# Effectuer plusieurs essais\n",
        "n_trials = 1000\n",
        "n_nonsig = 0\n",
        "\n",
        "for i in range(n_trials):\n",
        "    # Préparer des données aléatoires, correles\n",
        "    x = np.random.randn(n)\n",
        "    y = x+np.random.randn(n)*4\n",
        "    \n",
        "    # Calculer le coefficient de corrélation et la p-value\n",
        "    corr, pval = pearsonr(x, y)\n",
        "    \n",
        "    # Vérifier si la p-value est inférieure à 0,05 et incrémenter le compteur\n",
        "    if pval > 0.05:\n",
        "        n_nonsig += 1\n",
        "\n",
        "# Afficher le nombre de fois où la corrélation était significative\n",
        "print(f\"Sur {n_trials} essais, la corrélation était non-significative {n_nonsig} fois. Les faux negatives (puissace).\")\n",
        "\n",
        "fig, ax = plt.subplots( figsize=(5, 5));\n",
        "ax.scatter(x, y);                                      # tracer les points de données\n",
        "ax.set_title(f'Corrélation r = {corr:.2f}, p = {pval:.3f} ', fontsize=14);  # ajouter un titre avec les informations de corrélation, CI et p-value\n"
      ],
      "metadata": {
        "id": "cwWIXXIgc5eO"
      },
      "execution_count": null,
      "outputs": []
    }
  ]
}